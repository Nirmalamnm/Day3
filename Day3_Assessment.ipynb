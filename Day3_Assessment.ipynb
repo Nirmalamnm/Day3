{
  "nbformat": 4,
  "nbformat_minor": 0,
  "metadata": {
    "colab": {
      "name": "Day3 Assessment.ipynb",
      "provenance": [],
      "collapsed_sections": [],
      "authorship_tag": "ABX9TyML5Y2OcokR8ItejAwj1Wpq",
      "include_colab_link": true
    },
    "kernelspec": {
      "name": "python3",
      "display_name": "Python 3"
    }
  },
  "cells": [
    {
      "cell_type": "markdown",
      "metadata": {
        "id": "view-in-github",
        "colab_type": "text"
      },
      "source": [
        "<a href=\"https://colab.research.google.com/github/Nirmalamnm/Day3/blob/master/Day3_Assessment.ipynb\" target=\"_parent\"><img src=\"https://colab.research.google.com/assets/colab-badge.svg\" alt=\"Open In Colab\"/></a>"
      ]
    },
    {
      "cell_type": "code",
      "metadata": {
        "id": "IRzbQyp9ap85",
        "colab_type": "code",
        "colab": {}
      },
      "source": [
        ""
      ],
      "execution_count": 0,
      "outputs": []
    },
    {
      "cell_type": "markdown",
      "metadata": {
        "id": "RkfbNnGUatu3",
        "colab_type": "text"
      },
      "source": [
        "Assignment 1 = Day - 3"
      ]
    },
    {
      "cell_type": "code",
      "metadata": {
        "id": "LjFBQU0LaqFR",
        "colab_type": "code",
        "outputId": "6a4b6170-ea21-4ab3-a03f-5f6b213da422",
        "colab": {
          "base_uri": "https://localhost:8080/",
          "height": 50
        }
      },
      "source": [
        "marks = int(input(\"Enter marks\"))\n",
        "type(mmmarks)"
      ],
      "execution_count": 0,
      "outputs": [
        {
          "output_type": "stream",
          "text": [
            "Enter marks 92\n"
          ],
          "name": "stdout"
        },
        {
          "output_type": "execute_result",
          "data": {
            "text/plain": [
              "int"
            ]
          },
          "metadata": {
            "tags": []
          },
          "execution_count": 5
        }
      ]
    },
    {
      "cell_type": "code",
      "metadata": {
        "id": "Pt9m2f49dL8D",
        "colab_type": "code",
        "colab": {}
      },
      "source": [
        ""
      ],
      "execution_count": 0,
      "outputs": []
    },
    {
      "cell_type": "markdown",
      "metadata": {
        "id": "j1W2kZ20stcc",
        "colab_type": "text"
      },
      "source": [
        "using if, elif and else"
      ]
    },
    {
      "cell_type": "code",
      "metadata": {
        "id": "lFp47QGLdM_V",
        "colab_type": "code",
        "colab": {
          "base_uri": "https://localhost:8080/",
          "height": 33
        },
        "outputId": "089ddb24-7057-40f5-9d3a-ad37f8b38d0d"
      },
      "source": [
        "if marks >= 90 :\n",
        "  print(\"A\")\n",
        "elif marks >= 85 and marks <= 75:\n",
        "    print(\"B\")\n",
        "elif marks >= 85 and marks <= 75:\n",
        "    print(\"C\")\n",
        "elif marks >= 85 and marks <= 75:\n",
        "    print(\"D\") \n",
        "elif marks >= 85 and marks <= 75:\n",
        "    print(\"E\")\n",
        "else:\n",
        "       print(\"Fail - Try again\")\n",
        "\n",
        "  \n",
        "\n"
      ],
      "execution_count": 9,
      "outputs": [
        {
          "output_type": "stream",
          "text": [
            "A\n"
          ],
          "name": "stdout"
        }
      ]
    },
    {
      "cell_type": "code",
      "metadata": {
        "id": "XUPCLcp0dNaO",
        "colab_type": "code",
        "colab": {}
      },
      "source": [
        ""
      ],
      "execution_count": 0,
      "outputs": []
    },
    {
      "cell_type": "markdown",
      "metadata": {
        "id": "tQpRQTBLJ4xe",
        "colab_type": "text"
      },
      "source": [
        "Guess Team India Score"
      ]
    },
    {
      "cell_type": "code",
      "metadata": {
        "id": "Mfimu2nBdM7Y",
        "colab_type": "code",
        "colab": {
          "base_uri": "https://localhost:8080/",
          "height": 98
        },
        "outputId": "30b5a39c-91ff-4de4-c0e0-a28025082332"
      },
      "source": [
        "import random\n",
        "computer_gen_score = random.randint(1,250)\n",
        "print(computer_gen_score)\n",
        "user_score = int(input(\"Enter your guessing score in between 1 to 250\"))\n",
        "print(user_score)\n",
        "type(user_score)\n",
        "if user_score > 250 and user_score < 1:\n",
        "  Print(\"Reduce your expection for 20-20 cricket\")\n",
        "else:\n",
        "  print(\"ok to go ahead\") \n",
        "check_range = computer_gen_score - user_score\n",
        "check_range = abs(check_range)  \n",
        "if check_range <= 10 and check_range >=1:\n",
        "  print(\"ypu are true Team India Fan\")\n",
        "else:\n",
        "  print(\"you are not true Team India Fan\")  \n",
        "\n",
        "  \n",
        "  "
      ],
      "execution_count": 14,
      "outputs": [
        {
          "output_type": "stream",
          "text": [
            "217\n",
            "Enter your guessing score in between 1 to 250 118\n",
            "118\n",
            "ok to go ahead\n",
            "you are not true Team India Fan\n"
          ],
          "name": "stdout"
        }
      ]
    },
    {
      "cell_type": "code",
      "metadata": {
        "id": "alqlQsQTdM6Z",
        "colab_type": "code",
        "colab": {}
      },
      "source": [
        ""
      ],
      "execution_count": 0,
      "outputs": []
    }
  ]
}